{
 "cells": [
  {
   "cell_type": "markdown",
   "id": "16761a6f",
   "metadata": {},
   "source": [
    "**A few early test analyses of phenocycler downloaded cell data** "
   ]
  },
  {
   "cell_type": "code",
   "execution_count": null,
   "id": "d6267e54",
   "metadata": {
    "scrolled": true
   },
   "outputs": [],
   "source": [
    "import numpy as np\n",
    "import numpy.linalg as linalg\n",
    "import scipy as scpy\n",
    "import scipy.stats as stats\n",
    "from scipy.stats import wishart, multivariate_normal\n",
    "import pandas as pd\n",
    "import matplotlib as mplt\n",
    "import matplotlib.pyplot as plt\n",
    "import math as math \n",
    "import time as tm\n",
    "import seaborn as sb\n",
    "\n",
    "cellsdf = pd.read_csv('sample_Data.csv')\n",
    "print(f'Data read in from file with shape {cellsdf.shape}')\n"
   ]
  },
  {
   "cell_type": "markdown",
   "id": "6c89dd01",
   "metadata": {},
   "source": [
    "**This plot just shows approximate total cell density over the image***"
   ]
  },
  {
   "cell_type": "code",
   "execution_count": null,
   "id": "d46b7914",
   "metadata": {
    "scrolled": true
   },
   "outputs": [],
   "source": [
    "fig, ax = plt.subplots()\n",
    "bns=(22,15)\n",
    "h,xe,ye,i = ax.hist2d(cellsdf.Xc, cellsdf.Yc, bins=bns)\n",
    "plt.show()\n",
    "print(f'Total number of cells is {cellsdf.shape[0]}')\n",
    "print(f'Boxes are {(xe[bns[0]]-xe[0])/bns[0]:.1f} x {(ye[bns[1]]-ye[0])/bns[1]:.1f} micro m')\n",
    "print(f'min,max,mean and sd of density (cel/box) {h.min()},{h.max()},{h.mean()},{h.std():.1f}')\n",
    "he = np.ones(bns)*h.mean()\n",
    "chisq,p = stats.chisquare(f_obs=np.reshape(h,bns[0]*bns[1]),f_exp=np.reshape(he,bns[0]*bns[1]))\n",
    "print(f'pvalue for deviation from uniform distribution: {p:0.2f}')"
   ]
  },
  {
   "cell_type": "markdown",
   "id": "5351b98c",
   "metadata": {},
   "source": [
    "**Descriptive statistics of the cellular stain data**"
   ]
  },
  {
   "cell_type": "code",
   "execution_count": null,
   "id": "bea1b9b9",
   "metadata": {
    "scrolled": true
   },
   "outputs": [],
   "source": [
    "cellsdf.describe()"
   ]
  },
  {
   "cell_type": "markdown",
   "id": "450d3088",
   "metadata": {},
   "source": [
    "**Histograms of stains and cell areas** and Binarization"
   ]
  },
  {
   "cell_type": "code",
   "execution_count": null,
   "id": "b4093540",
   "metadata": {
    "scrolled": true
   },
   "outputs": [],
   "source": [
    "# this bit of code just replaces all the zeros in the data by the min value in the respective col \n",
    "\n",
    "small=0.0001\n",
    "large=100000\n",
    "dftmp=cellsdf.iloc[:,5:]\n",
    "dftmp = dftmp.where(dftmp>small, other=large)\n",
    "mins= dftmp.min(numeric_only=True)\n",
    "for i in range(0,dftmp.shape[1]):    dftmp.iloc[dftmp.iloc[:,i]>(large-1),i] = mins[i]\n",
    "\n",
    "# Apply thresholds and convert values to binary based on the top quartile\n",
    "thresholds = dftmp.quantile(0.75)\n",
    "print('Before')\n",
    "print(dftmp.head())\n",
    "for i in range( dftmp.shape[1]):\n",
    "    for j in range( dftmp.shape[0]):\n",
    "        if dftmp.iloc[j,i] > thresholds[i]:\n",
    "            dftmp.iloc[j,i] = 1.0\n",
    "        else:\n",
    "            dftmp.iloc[j,i] = 0.0\n",
    "print('After')\n",
    "print(dftmp.head())"
   ]
  },
  {
   "cell_type": "markdown",
   "id": "970af2ec",
   "metadata": {},
   "source": [
    "**Stain (and area) correlations**"
   ]
  },
  {
   "cell_type": "code",
   "execution_count": null,
   "id": "82a3f422",
   "metadata": {
    "scrolled": true
   },
   "outputs": [],
   "source": [
    "r,p = stats.spearmanr(cellsdf.iloc[:,5:cellsdf.shape[1]])\n",
    "df = pd.DataFrame(r, index=cellsdf.columns[5:], columns=cellsdf.columns[5:])\n",
    "fig,ax = plt.subplots()\n",
    "sb.heatmap(df,ax=ax, cmap='bwr')\n",
    "plt.show()\n"
   ]
  },
  {
   "cell_type": "markdown",
   "id": "3fe9c1e2",
   "metadata": {},
   "source": [
    "**A quick look at how cells that are strongly positive (top quartile of stain intensity) for these stains are distributed**"
   ]
  },
  {
   "cell_type": "code",
   "execution_count": null,
   "id": "48c86787",
   "metadata": {
    "scrolled": false
   },
   "outputs": [],
   "source": [
    "\n",
    "numeric_df = cellsdf.select_dtypes(include=[float, int])\n",
    "# Now calculate the quantile\n",
    "thresholds = numeric_df.quantile(0.75)\n",
    "#  slice the result\n",
    "thresholds = thresholds[3:]\n",
    "#thresholds = cellsdf.quantile(0.75)[3:] line not woking\n",
    "nr=4\n",
    "nc=4\n",
    "bns=(22,15)\n",
    "fig, ax = plt.subplots(nrows=nr,ncols=nc,figsize=(13.0,10.0),layout='constrained')\n",
    "chi=[]\n",
    "outs=[]\n",
    "ncells = []\n",
    "for i in range(0,thresholds.shape[0]):\n",
    "    col=i+5\n",
    "    dfi = cellsdf[cellsdf.iloc[:,col]>thresholds[i]]\n",
    "    ncells.append(dfi.shape[0])\n",
    "    r=math.floor(i/nc)\n",
    "    c=i%nc\n",
    "    ax[r][c].set_title(cellsdf.columns[col])\n",
    "    outs.append(ax[r][c].hist2d(dfi.Xc, dfi.Yc, bins=bns))\n",
    "    expect=np.ones(bns)*outs[i][0].mean()\n",
    "    chi.append(stats.chisquare(f_obs=np.reshape(outs[i][0],bns[0]*bns[1]),f_exp=np.reshape(expect,bns[0]*bns[1])))\n",
    "    \n",
    "plt.show()\n",
    "\n",
    "for i in range(0,thresholds.shape[0]):\n",
    "    col=i+5\n",
    "    print(f'Number of highly expressing (>{thresholds[i]:.2f}) {cellsdf.columns[col]} cells {ncells[i]}')\n",
    "    print(f'Boxes are {(outs[i][1][bns[0]]-outs[i][1][0])/bns[0]:.1f} x {(outs[i][2][bns[1]]-outs[i][2][0])/bns[1]:.1f} micro m')\n",
    "    print(f'min,max,mean and sd of density (cells/box) {outs[i][0].min()},{outs[i][0].max()},{outs[i][0].mean():.1f},{outs[i][0].std():.1f}')\n",
    "    print(f'pvalue for deviation from random distribution: {chi[i][1]:.3f}\\n')"
   ]
  },
  {
   "cell_type": "markdown",
   "id": "08b12051",
   "metadata": {},
   "source": [
    "**Some exploratory clustering**\n",
    "\n",
    "Start with a clustermap from seaborn.   "
   ]
  },
  {
   "cell_type": "code",
   "execution_count": null,
   "id": "6d0890ab",
   "metadata": {
    "scrolled": false
   },
   "outputs": [],
   "source": [
    "\n",
    "#now cluster on all stains\n",
    "cg=sb.clustermap(dftmp, metric='correlation',cmap='bwr',z_score=1, center=0.0, vmin=-2.0, vmax=2.0)\n"
   ]
  },
  {
   "cell_type": "markdown",
   "id": "1851f457",
   "metadata": {},
   "source": [
    "**Process the clusters**\n",
    "\n",
    "Annoyingly clustermap does not return the cluster info in usable (non graphic) form so need to run the scipy routine it uses again. "
   ]
  },
  {
   "cell_type": "code",
   "execution_count": null,
   "id": "90e8f25f",
   "metadata": {
    "scrolled": true
   },
   "outputs": [],
   "source": [
    "# clustering above was on col z scores so need these first\n",
    "means=dftmp.mean(axis=0)\n",
    "sds= dftmp.std(axis=0)\n",
    "for i in range(0,dftmp.shape[1]):\n",
    "    dftmp.iloc[:,i] = (dftmp.iloc[:,i]-means[i])/sds[i]\n",
    "z=scpy.cluster.hierarchy.linkage(dftmp, method='average', metric='correlation')\n",
    "print('Done')"
   ]
  },
  {
   "cell_type": "markdown",
   "id": "af2290d5",
   "metadata": {},
   "source": [
    "**Calinski Habaraz and Silluete score**"
   ]
  },
  {
   "cell_type": "code",
   "execution_count": null,
   "id": "a23e3412",
   "metadata": {},
   "outputs": [],
   "source": [
    "from sklearn.metrics import calinski_harabasz_score, silhouette_score\n",
    "import matplotlib.pyplot as plt\n",
    "\n",
    "max_clusters = 14\n",
    "ch_scores = []\n",
    "silhouette_scores = []\n",
    "\n",
    "for nclusters in range(3, max_clusters + 1):  # Start from 3 clusters\n",
    "    clusters = np.arange(cellsdf.shape[0])\n",
    "    for i in range(0, cellsdf.shape[0] - nclusters):\n",
    "        clusters[clusters == z[i, 0]] = cellsdf.shape[0] + i\n",
    "        clusters[clusters == z[i, 1]] = cellsdf.shape[0] + i\n",
    "\n",
    "    # Renumber from 1 to nclusters\n",
    "    nclus = 0\n",
    "    for i in range(0, clusters.size):\n",
    "        if clusters[i] < 0:\n",
    "            continue\n",
    "        c = clusters[i]\n",
    "        nclus += 1\n",
    "        clusters[clusters == c] = -nclus\n",
    "    clusters = -clusters\n",
    "\n",
    "    # Work out cluster sizes\n",
    "    clustersizes = np.zeros(nclus)\n",
    "    for i in range(0, clusters.size):\n",
    "        clustersizes[clusters[i] - 1] += 1\n",
    "\n",
    "    cellsdf['CellType'] = clusters\n",
    "    dftmp['CellType'] = clusters\n",
    "    ncelltypes = nclusters\n",
    "\n",
    "    # Calculate Calinski-Harabasz score\n",
    "    ch_score = calinski_harabasz_score(dftmp.drop(columns=['CellType']), clusters)\n",
    "    ch_scores.append(ch_score)\n",
    "\n",
    "    # Calculate Silhouette score\n",
    "    silhouette_avg = silhouette_score(dftmp.drop(columns=['CellType']), clusters)\n",
    "    silhouette_scores.append(silhouette_avg)\n",
    "\n",
    "# Find the optimal number of clusters\n",
    "optimal_clusters_Calinski_Harabasz = ch_scores.index(max(ch_scores)) + 3  # +3 because we started from 3 clusters\n",
    "\n",
    "max_silhouette_score = max(silhouette_scores)\n",
    "optimal_clusters_Silhouette = silhouette_scores.index(max_silhouette_score) + 3\n",
    "\n",
    "print(f\"Optimal number of clusters based on Calinski-Harabasz score: {optimal_clusters_Calinski_Harabasz}\")\n",
    "print(f\"Optimal number of clusters based on Silhouette score: {optimal_clusters_Silhouette}\")\n",
    "\n",
    "# Plot the Calinski-Harabasz and Silhouette scores\n",
    "plt.figure(figsize=(12, 6))\n",
    "\n",
    "plt.subplot(1, 2, 1)\n",
    "plt.plot(range(3, max_clusters + 1), ch_scores, marker='o')\n",
    "plt.xlabel('Number of Clusters')\n",
    "plt.ylabel('Calinski-Harabasz Score')\n",
    "plt.title('Calinski-Harabasz Scores for Different Numbers of Clusters')\n",
    "plt.grid(True)\n",
    "\n",
    "plt.subplot(1, 2, 2)\n",
    "plt.plot(range(3, max_clusters + 1), silhouette_scores, marker='o')\n",
    "plt.xlabel('Number of Clusters')\n",
    "plt.ylabel('Silhouette Score')\n",
    "plt.title('Silhouette Scores for Different Numbers of Clusters')\n",
    "plt.grid(True)\n",
    "\n",
    "plt.tight_layout()\n",
    "plt.show()\n",
    "\n",
    "\n"
   ]
  },
  {
   "cell_type": "markdown",
   "id": "4d9ed0f3",
   "metadata": {},
   "source": [
    "**Process clusters**"
   ]
  },
  {
   "cell_type": "code",
   "execution_count": null,
   "id": "57d14181",
   "metadata": {
    "scrolled": true
   },
   "outputs": [],
   "source": [
    "nclusters=5\n",
    "clusters = np.arange(cellsdf.shape[0])\n",
    "for i in range(0,cellsdf.shape[0]-nclusters):\n",
    "    clusters[ clusters==z[i,0] ] = cellsdf.shape[0]+i\n",
    "    clusters[ clusters==z[i,1] ] = cellsdf.shape[0]+i \n",
    "\n",
    "# now renumber from 1 to nclusters\n",
    "nclus=0\n",
    "for i in range(0,clusters.size):\n",
    "    if clusters[i]<0:\n",
    "        continue\n",
    "    c=clusters[i]\n",
    "    nclus += 1\n",
    "    clusters[clusters==c] = -nclus\n",
    "clusters = -clusters    \n",
    "\n",
    "# work out cluster sizes\n",
    "clustersizes = np.zeros(nclus)\n",
    "for i in range(0,clusters.size):\n",
    "    clustersizes[clusters[i]-1] += 1\n",
    "\n",
    "cellsdf['CellType'] = clusters\n",
    "dftmp['CellType'] = clusters\n",
    "ncelltypes = nclusters\n",
    "\n",
    "print(f'Generated {nclus} clusters')\n",
    "print('Cluster sizes and centres')\n",
    "\n",
    "for i in range(0,nclusters):\n",
    "    print(f'Cluster {i+1} is size {clustersizes[i]}')\n",
    "    means = dftmp.loc[ dftmp.loc[:,'CellType'] == (i+1), :].mean()\n",
    "    print(means)\n",
    "\n",
    "\n"
   ]
  },
  {
   "cell_type": "markdown",
   "id": "37623298",
   "metadata": {},
   "source": [
    "**Distribution of cell types over the image**"
   ]
  },
  {
   "cell_type": "code",
   "execution_count": null,
   "id": "deb417cb",
   "metadata": {},
   "outputs": [],
   "source": [
    "nr=2\n",
    "nc=3\n",
    "bns=(22,15)\n",
    "fig, ax = plt.subplots(nrows=nr,ncols=nc,figsize=(10.0,5.0),layout='constrained')\n",
    "chi=[]\n",
    "outs=[]\n",
    "ncells = []\n",
    "for i in range(0,ncelltypes):\n",
    "    dfi = cellsdf[ cellsdf['CellType']==(i+1) ]\n",
    "    ncells.append(dfi.shape[0])\n",
    "    r=math.floor(i/nc)\n",
    "    c=i%nc\n",
    "    ax[r][c].set_title('Cell Type ' + str(i+1))\n",
    "    outs.append(ax[r][c].hist2d(dfi.Xc, dfi.Yc, bins=bns))\n",
    "    expect=np.ones(bns)*outs[i][0].mean()\n",
    "    chi.append(stats.chisquare(f_obs=np.reshape(outs[i][0],bns[0]*bns[1]),f_exp=np.reshape(expect,bns[0]*bns[1])))\n",
    "    \n",
    "plt.show()\n",
    "\n",
    "for i in range(0,ncelltypes):\n",
    "    print(f'Number of Cell Type {i+1} cells {ncells[i]}')\n",
    "    print(f'Boxes are {(outs[i][1][bns[0]]-outs[i][1][0])/bns[0]:.1f} x {(outs[i][2][bns[1]]-outs[i][2][0])/bns[1]:.1f} micro m')\n",
    "    print(f'min,max,mean and sd of density (cells/box) {outs[i][0].min()},{outs[i][0].max()},{outs[i][0].mean():.1f},{outs[i][0].std():.1f}')\n",
    "    print(f'pvalue for deviation from random distribution: {chi[i][1]:.3f}\\n')"
   ]
  },
  {
   "cell_type": "markdown",
   "id": "a7e7d3a4",
   "metadata": {},
   "source": [
    "PCA"
   ]
  },
  {
   "cell_type": "code",
   "execution_count": null,
   "id": "304426c4",
   "metadata": {},
   "outputs": [],
   "source": [
    "\n",
    "from sklearn.decomposition import PCA\n",
    "from sklearn.cluster import KMeans\n",
    "from collections import Counter\n",
    "from sklearn.preprocessing import MinMaxScaler\n",
    "from sklearn.metrics import calinski_harabasz_score, silhouette_score\n",
    "from umap import UMAP\n",
    "from scipy.cluster.hierarchy import linkage, dendrogram\n",
    "\n",
    "dftmp_array = dftmp.values\n",
    "\n",
    "# always wise to set a random seed \n",
    "# so all random\n",
    "# operations can be repeated \n",
    "random_seed = 123\n",
    "np.random.seed(random_seed)\n",
    "\n",
    "# reduce to 2 components using PCA\n",
    "pca_2d = PCA(n_components = 2, random_state=random_seed).fit(dftmp_array)\n",
    "data_2d = pca_2d.transform(dftmp_array)\n",
    "\n",
    "# gold standard is to report the amount of variance accounted for in each of the new\n",
    "# PCA dimensions\n",
    "variance = pca_2d.explained_variance_ratio_"
   ]
  },
  {
   "cell_type": "markdown",
   "id": "d830128c",
   "metadata": {},
   "source": [
    "UMAP"
   ]
  },
  {
   "cell_type": "code",
   "execution_count": null,
   "id": "aa7cfda9",
   "metadata": {},
   "outputs": [],
   "source": [
    "# Dimensionality reduction through UMAP - a bit more involved than PCA\n",
    "# but a bit more resilient to imbalance in data\n",
    "embedder = UMAP(n_components=2, min_dist=0.76, n_neighbors=55).fit(dftmp)\n",
    "embedding = embedder.transform(dftmp)"
   ]
  },
  {
   "cell_type": "code",
   "execution_count": null,
   "id": "ffc6aadb",
   "metadata": {},
   "outputs": [],
   "source": [
    "# plot\n",
    "fig, axes = plt.subplots(2,2,figsize = (10,8))\n",
    "ax = axes.ravel()\n",
    "## PCA dimension plots\n",
    "# start with a simple scatterplot - quite tricky to see though\n",
    "sb.scatterplot(x = data_2d[:,0], \n",
    "                y = data_2d[:,1], \n",
    "                # hue = clusters, \n",
    "                # palette = 'tab10', \n",
    "                ax = ax[0])\n",
    "# may be easier to see with a kdeplot - kernel density estimation\n",
    "sb.kdeplot(x = data_2d[:,0], \n",
    "                y = data_2d[:,1], \n",
    "                # hue = clusters, \n",
    "                # palette = 'tab10', \n",
    "                ax = ax[1], \n",
    "                fill = True, \n",
    "                alpha = 0.5) # alpha is level of opacity - need a little transparency to see overlaps\n",
    "\n",
    "## UMAP embedding plots\n",
    "sb.scatterplot(x = embedding[:,0], \n",
    "                y = embedding[:,1], \n",
    "                # hue = clusters, \n",
    "                # palette = 'tab10', \n",
    "                ax = ax[2])\n",
    "# may be easier to see with a kdeplot - kernel density estimation\n",
    "sb.kdeplot(x = embedding[:,0], \n",
    "                y = embedding[:,1], \n",
    "                # hue = clusters, \n",
    "                # palette = 'tab10', \n",
    "                ax = ax[3], \n",
    "                fill = True, \n",
    "                alpha = 0.5) # alpha is level of opacity - need a little transparency to see overlaps\n",
    "\n",
    "# titles and axes labels\n",
    "ax[0].set_title('PCA - scatter', fontsize = 12)\n",
    "ax[1].set_title('PCA - KDE', fontsize = 12)\n",
    "ax[2].set_title('UMAP - scatter', fontsize = 12)\n",
    "ax[3].set_title('UMAP - KDE', fontsize = 12)\n",
    "\n",
    "ax[0].set_xlabel(f'PCA 1 (Explained variance: {str(round(variance[0]*100,2))}%)', fontsize = 12, fontweight = 'bold')\n",
    "ax[1].set_xlabel(f'PCA 1 (Explained variance: {str(round(variance[0]*100,2))}%)', fontsize = 12, fontweight = 'bold')\n",
    "ax[2].set_xlabel(f'UMAP 1', fontsize = 12, fontweight = 'bold')\n",
    "ax[3].set_xlabel(f'UMAP 1', fontsize = 12, fontweight = 'bold')\n",
    "\n",
    "ax[0].set_ylabel(f'PCA 2 (Explained variance: {str(round(variance[1]*100,2))}%)', fontsize = 12, fontweight = 'bold')\n",
    "ax[1].set_ylabel(f'PCA 2 (Explained variance: {str(round(variance[1]*100,2))}%)', fontsize = 12, fontweight = 'bold')\n",
    "ax[2].set_ylabel(f'UMAP 2', fontsize = 12, fontweight = 'bold')\n",
    "ax[3].set_ylabel(f'UMAP 2', fontsize = 12, fontweight = 'bold')\n",
    "\n",
    "ax[1].set_xlim([-20,20])\n",
    "ax[1].set_ylim([-30,30])\n",
    "\n",
    "fig.tight_layout()"
   ]
  },
  {
   "cell_type": "markdown",
   "id": "122f91d5",
   "metadata": {},
   "source": [
    "Optimal UMAP parameters "
   ]
  },
  {
   "cell_type": "code",
   "execution_count": null,
   "id": "b5efd84e",
   "metadata": {},
   "outputs": [],
   "source": [
    "from itertools import product\n",
    "# range of parameters to trial\n",
    "min_dist_range = [i/100 for i in range(1,100,25)]\n",
    "n_neighbours_range = list(range(5,105,25))\n",
    "\n",
    "fig, ax = plt.subplots(len(min_dist_range), len(n_neighbours_range), figsize = (12,12))\n",
    "\n",
    "# scan through parameter sets and make plots\n",
    "for i, min_dist in enumerate(min_dist_range):\n",
    "    for j, n_neighbors in enumerate(n_neighbours_range):\n",
    "        # make UMAP embedding\n",
    "        embedding = UMAP(n_components=2, min_dist=min_dist, n_neighbors=n_neighbors).fit_transform(dftmp_array)\n",
    "        # plot\n",
    "        sb.scatterplot(x = embedding[:,0], y = embedding[:,1], ax = ax[i][j])\n",
    "        ax[i][j].set_title(f'Min_dist = {min_dist}; n_neighbors = {n_neighbors}', fontsize = 12)\n",
    "\n",
    "        print(min_dist, n_neighbors, 'complete!')\n",
    "\n",
    "# add general label\n",
    "plt.xlabel('UMAP 1', fontsize = 14)\n",
    "plt.ylabel('UMAP 2', fontsize = 14)\n",
    "\n",
    "# automatically make subplots fit together well\n",
    "fig.tight_layout()"
   ]
  },
  {
   "cell_type": "markdown",
   "id": "aa0ae53c",
   "metadata": {},
   "source": [
    "Putting name to clusters"
   ]
  },
  {
   "cell_type": "code",
   "execution_count": null,
   "id": "c3eed580",
   "metadata": {},
   "outputs": [],
   "source": [
    "   \n",
    "from scipy.stats import zscore\n",
    "\n",
    "# Add cluster information to DataFrame\n",
    "dftmp['CellType'] = clusters\n",
    "cellsdf['CellType'] = clusters\n",
    "\n",
    "\n",
    "# Drop the 'CellType' column before calculating means and plotting\n",
    "features_df = dftmp.drop(columns=['CellType'])\n",
    "cluster_means = features_df.groupby(dftmp['CellType']).mean()\n",
    "\n",
    "# Identify markers that are positively expressed\n",
    "positive_markers = cluster_means.map(lambda x: x if x > 0 else np.nan).dropna(axis=1, how='all')\n",
    "\n",
    "# Calculate Z-scores for each feature in each cluster\n",
    "z_scores = cluster_means.apply(zscore)\n",
    "\n",
    "# List of thresholds for high expression\n",
    "thresholds = {\n",
    "    \"75% confidence (Z > 0.675)\": 0.675,\n",
    "    \"80% confidence (Z > 0.842)\": 0.842,\n",
    "    \"85% confidence (Z > 1.036)\": 1.036,\n",
    "    \"90% confidence (Z > 1.28)\": 1.28\n",
    "}\n",
    "\n",
    "for confidence, threshold in thresholds.items():\n",
    "    # Identify highly expressed markers for the current threshold\n",
    "    highly_expressed_markers = z_scores.map(lambda x: x if x > threshold else np.nan).dropna(axis=1, how='all')\n",
    "\n",
    "    # Print the result\n",
    "    print(f\"Highly expressed markers in each cell type ({confidence}):\")\n",
    "    for cluster in highly_expressed_markers.index:\n",
    "        markers = highly_expressed_markers.loc[cluster].dropna().index.tolist()\n",
    "        print(f\"Highly expressed markers in cluster {cluster}:\")\n",
    "        for marker in markers:\n",
    "            print(marker)\n",
    "        print(\"\\n\")\n",
    "\n",
    "# Plot the mean expression of features by cluster without the 'Cluster' column\n",
    "if 'Cluster' in cluster_means.columns:\n",
    "    cluster_means = cluster_means.drop(columns=['Cluster'])\n",
    "\n",
    "ax = cluster_means.plot(kind='bar', figsize=(14, 7))\n",
    "plt.title('Mean Expression of Features by Cluster')\n",
    "plt.ylabel('Mean Expression')\n",
    "plt.xlabel('Cluster')\n",
    "plt.xticks(rotation=0)\n",
    "plt.show()\n"
   ]
  },
  {
   "cell_type": "markdown",
   "id": "7c396c8d",
   "metadata": {},
   "source": [
    "**Cluster with labels**"
   ]
  },
  {
   "cell_type": "code",
   "execution_count": null,
   "id": "61d457d0",
   "metadata": {},
   "outputs": [],
   "source": [
    "\n",
    "# Add cluster information to DataFrame\n",
    "dftmp['CellType'] = clusters\n",
    "cellsdf['CellType'] = clusters\n",
    "\n",
    "# Generate UMAP embedding\n",
    "embedder = UMAP(n_components=2, min_dist=0.76, n_neighbors=55).fit(dftmp)\n",
    "embedding = embedder.transform(dftmp)\n",
    "\n",
    "# Print the result\n",
    "marker_labels = {}\n",
    "print(\"Highly expressed markers in each cell type (90% confidence):\")\n",
    "for cluster in highly_expressed_markers.index:\n",
    "    markers = highly_expressed_markers.loc[cluster].dropna().index.tolist()\n",
    "    clean_markers = [marker.replace(\"Cell: \", \"\").replace(\" mean\", \"\").replace(\"Cluster\", \"\") for marker in markers]\n",
    "    label = f\"Cluster {cluster}: \" + \", \".join(clean_markers)\n",
    "    marker_labels[cluster] = label\n",
    "    print(label)\n",
    "    print(\"\\n\")\n",
    "\n",
    "# Plot UMAP projection\n",
    "plt.figure(figsize=(10, 8))\n",
    "sb.scatterplot(x=embedding[:, 0], y=embedding[:, 1], hue=dftmp['CellType'], palette='tab10')\n",
    "for cluster in range(nclusters):\n",
    "    label = marker_labels.get(cluster + 1, f\"Cluster {cluster+1}\")\n",
    "    x = embedding[dftmp['CellType'] == (cluster+1), 0].mean()\n",
    "    y = embedding[dftmp['CellType'] == (cluster+1), 1].mean()\n",
    "    plt.text(x, y, label, fontsize=12, weight='bold')\n",
    "plt.title('UMAP with Cluster Labels')\n",
    "plt.xlabel('UMAP1')\n",
    "plt.ylabel('UMAP2')\n",
    "plt.show()\n"
   ]
  },
  {
   "cell_type": "markdown",
   "id": "5f7d7036",
   "metadata": {},
   "source": [
    "**Clusters over the image** "
   ]
  },
  {
   "cell_type": "code",
   "execution_count": null,
   "id": "fcc185a3",
   "metadata": {},
   "outputs": [],
   "source": [
    "# Define specific colormaps for each cluster\n",
    "cluster_colors = {\n",
    "    1: 'Blues',\n",
    "    2: 'Oranges',\n",
    "    3: 'Greens',\n",
    "    4: 'Reds',\n",
    "    5: 'Purples'\n",
    "}\n",
    "\n",
    "# Generate hexbin plots for each cluster\n",
    "fig, ax = plt.subplots(figsize=(10, 10))\n",
    "\n",
    "# Plot each cluster with the respective colormap\n",
    "for cluster, cmap in cluster_colors.items():\n",
    "    cluster_data = cellsdf[cellsdf['CellType'] == cluster]\n",
    "    hb = ax.hexbin(cluster_data['Xc'], cluster_data['Yc'], \n",
    "                   gridsize=50, cmap=plt.colormaps[cmap], \n",
    "                   mincnt=1, alpha=0.6, linewidths=0.5, edgecolors='k')\n",
    "\n",
    "# Manually create a legend\n",
    "handles = [plt.Line2D([0], [0], marker='o', color='w', markerfacecolor=plt.colormaps[cmap](0.6), markersize=10, label=f'Cluster {cluster}') for cluster, cmap in cluster_colors.items()]\n",
    "ax.legend(handles=handles, title=\"Clusters\")\n",
    "\n",
    "# Add color bar and labels\n",
    "cb = plt.colorbar(hb, label='Counts', orientation='vertical')\n",
    "plt.title('Cluster Distribution')\n",
    "plt.xlabel('X Coordinate')\n",
    "plt.ylabel('Y Coordinate')\n",
    "plt.show()"
   ]
  }
 ],
 "metadata": {
  "kernelspec": {
   "display_name": "Python 3 (ipykernel)",
   "language": "python",
   "name": "python3"
  },
  "language_info": {
   "codemirror_mode": {
    "name": "ipython",
    "version": 3
   },
   "file_extension": ".py",
   "mimetype": "text/x-python",
   "name": "python",
   "nbconvert_exporter": "python",
   "pygments_lexer": "ipython3",
   "version": "3.12.4"
  }
 },
 "nbformat": 4,
 "nbformat_minor": 5
}
